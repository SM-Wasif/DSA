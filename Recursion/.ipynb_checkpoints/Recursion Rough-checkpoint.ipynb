{
 "cells": [
  {
   "cell_type": "code",
   "execution_count": 4,
   "id": "e704a5ca",
   "metadata": {},
   "outputs": [],
   "source": [
    "def opendoll(doll):\n",
    "    if doll == 1:\n",
    "        \n",
    "        print('All dolls are opened')\n",
    "    else:\n",
    "        opendoll( doll - 1)"
   ]
  },
  {
   "cell_type": "code",
   "execution_count": 6,
   "id": "739d86b6",
   "metadata": {},
   "outputs": [
    {
     "name": "stdout",
     "output_type": "stream",
     "text": [
      "All dolls are opened\n"
     ]
    }
   ],
   "source": [
    "doll = 5\n",
    "opendoll(6)"
   ]
  },
  {
   "cell_type": "code",
   "execution_count": 9,
   "id": "c12107d2",
   "metadata": {},
   "outputs": [],
   "source": [
    "# Recursion is a way of solving a problem by having a function call itself. Example of opendoll function above."
   ]
  },
  {
   "cell_type": "markdown",
   "id": "1e27ca33",
   "metadata": {},
   "source": [
    "# Why NEED RECURSION ?\n",
    "1. Helps Solve Big problem by making them bigger one to smaller one.\n",
    "2. Prominent use of Recursion in Data Structues like Graph and Trees\n",
    "3. Used in various Algorithms"
   ]
  },
  {
   "cell_type": "markdown",
   "id": "c7484334",
   "metadata": {},
   "source": [
    "# How Recursion Works\n",
    "1. A method calls itself.\n",
    "2. Exit from the infinite loop.\n",
    "\n",
    "E.G:\n",
    "    \n",
    "def recursionmethod(parameters):\n",
    "\n",
    "    if exit from condition SATISFIED:\n",
    "    \n",
    "    return SOME VALUE\n",
    "    \n",
    "    else: \n",
    "    \n",
    "        recursionmethod(modified_parameters)\n",
    "        "
   ]
  },
  {
   "cell_type": "code",
   "execution_count": 8,
   "id": "5b7e9e46",
   "metadata": {},
   "outputs": [],
   "source": [
    "def firstmethod():                         #Example of Recursion. A function calling another function.\n",
    "    secondmethod()\n",
    "    print('I am first method')\n",
    "def secondmethod():\n",
    "    thirdmethod()\n",
    "    print('I am second method.')\n",
    "def thirdmethod():\n",
    "    fourthmethod()\n",
    "    print(\"I am third method.\")\n",
    "def fourthmethod():\n",
    "    print(\"I am fourth method.\")"
   ]
  },
  {
   "cell_type": "code",
   "execution_count": 9,
   "id": "99609197",
   "metadata": {},
   "outputs": [
    {
     "name": "stdout",
     "output_type": "stream",
     "text": [
      "I am fourth method.\n",
      "I am third method.\n",
      "I am second method.\n",
      "I am first method\n"
     ]
    }
   ],
   "source": [
    "firstmethod()"
   ]
  },
  {
   "cell_type": "code",
   "execution_count": 10,
   "id": "a954b61b",
   "metadata": {},
   "outputs": [],
   "source": [
    "def recmethod(n):\n",
    "    if n<1:\n",
    "        print('n is less than 1')\n",
    "    else :\n",
    "        recmethod(n-1)\n",
    "        print(n)"
   ]
  },
  {
   "cell_type": "code",
   "execution_count": 11,
   "id": "146546d3",
   "metadata": {},
   "outputs": [
    {
     "name": "stdout",
     "output_type": "stream",
     "text": [
      "n is less than 1\n",
      "1\n",
      "2\n",
      "3\n",
      "4\n",
      "5\n"
     ]
    }
   ],
   "source": [
    "recmethod(5)"
   ]
  },
  {
   "cell_type": "markdown",
   "id": "8773d795",
   "metadata": {},
   "source": [
    "# Recursive vs Iterative Solution"
   ]
  },
  {
   "cell_type": "code",
   "execution_count": 13,
   "id": "7a4f251f",
   "metadata": {},
   "outputs": [],
   "source": [
    "def rec(n):                   # Recursion\n",
    "    if n == 0:\n",
    "        return 1\n",
    "    else :\n",
    "        power = rec(n-1)\n",
    "        return power * 2"
   ]
  },
  {
   "cell_type": "raw",
   "id": "1b703eb3",
   "metadata": {},
   "source": [
    "l\n"
   ]
  },
  {
   "cell_type": "code",
   "execution_count": 17,
   "id": "76a4b4c3",
   "metadata": {},
   "outputs": [],
   "source": [
    "def itr(n):                     # Iteration\n",
    "    i = 0\n",
    "    power = 1\n",
    "    while i < n:\n",
    "        power = power * 2\n",
    "        i = i + 1\n",
    "    return power"
   ]
  },
  {
   "cell_type": "markdown",
   "id": "5a4b4113",
   "metadata": {},
   "source": [
    "# How to write reecursion in 3 Steps?"
   ]
  },
  {
   "cell_type": "markdown",
   "id": "3e98a889",
   "metadata": {},
   "source": [
    "Factorial"
   ]
  },
  {
   "cell_type": "code",
   "execution_count": 21,
   "id": "f241ae6a",
   "metadata": {},
   "outputs": [],
   "source": [
    "# STEP 1 : Recursive Case - The Flow\n",
    "#For Factorial, the recursive flow is : n! = n * (n-1)!\n",
    "def factorial(n):\n",
    "    return n * factorial(n-1)\n",
    "# Infinte LOOP"
   ]
  },
  {
   "cell_type": "code",
   "execution_count": 1,
   "id": "f62e5862",
   "metadata": {},
   "outputs": [],
   "source": [
    "# STEP 2 : BASE CASE - Stopping Criteria\n",
    "def factorial(n):\n",
    "    if n in [0,1]:\n",
    "        return 1\n",
    "    else:\n",
    "        return n * factorial(n-1)"
   ]
  },
  {
   "cell_type": "code",
   "execution_count": 4,
   "id": "5f5573c1",
   "metadata": {},
   "outputs": [],
   "source": [
    "# STEP 3 : UN- Intentional Case - The Constraint\n",
    "\n",
    "# The assert keyword lets you test if a condition in your code returns True, if not, \n",
    "#the program will raise an AssertionError than can be written by ourselves.\n",
    "\n",
    "def factorial(n):\n",
    "    assert  n>= 0 and int(n) == n, 'The number must be a positive integer only'\n",
    "    if n in [0,1]:\n",
    "        return 1\n",
    "    else:\n",
    "        return n * factorial(n-1)"
   ]
  },
  {
   "cell_type": "code",
   "execution_count": 9,
   "id": "2ee79bfd",
   "metadata": {},
   "outputs": [
    {
     "data": {
      "text/plain": [
       "3628800"
      ]
     },
     "execution_count": 9,
     "metadata": {},
     "output_type": "execute_result"
    }
   ],
   "source": [
    "factorial (10)"
   ]
  },
  {
   "cell_type": "code",
   "execution_count": 6,
   "id": "cc4ee415",
   "metadata": {},
   "outputs": [
    {
     "ename": "AssertionError",
     "evalue": "The number must be a positive integer only",
     "output_type": "error",
     "traceback": [
      "\u001b[1;31m---------------------------------------------------------------------------\u001b[0m",
      "\u001b[1;31mAssertionError\u001b[0m                            Traceback (most recent call last)",
      "Input \u001b[1;32mIn [6]\u001b[0m, in \u001b[0;36m<cell line: 1>\u001b[1;34m()\u001b[0m\n\u001b[1;32m----> 1\u001b[0m \u001b[43mfactorial\u001b[49m\u001b[43m(\u001b[49m\u001b[38;5;241;43m-\u001b[39;49m\u001b[38;5;241;43m5\u001b[39;49m\u001b[43m)\u001b[49m\n",
      "Input \u001b[1;32mIn [4]\u001b[0m, in \u001b[0;36mfactorial\u001b[1;34m(n)\u001b[0m\n\u001b[0;32m      6\u001b[0m \u001b[38;5;28;01mdef\u001b[39;00m \u001b[38;5;21mfactorial\u001b[39m(n):\n\u001b[1;32m----> 7\u001b[0m     \u001b[38;5;28;01massert\u001b[39;00m  n\u001b[38;5;241m>\u001b[39m\u001b[38;5;241m=\u001b[39m \u001b[38;5;241m0\u001b[39m \u001b[38;5;129;01mand\u001b[39;00m \u001b[38;5;28mint\u001b[39m(n) \u001b[38;5;241m==\u001b[39m n, \u001b[38;5;124m'\u001b[39m\u001b[38;5;124mThe number must be a positive integer only\u001b[39m\u001b[38;5;124m'\u001b[39m\n\u001b[0;32m      8\u001b[0m     \u001b[38;5;28;01mif\u001b[39;00m n \u001b[38;5;129;01min\u001b[39;00m [\u001b[38;5;241m0\u001b[39m,\u001b[38;5;241m1\u001b[39m]:\n\u001b[0;32m      9\u001b[0m         \u001b[38;5;28;01mreturn\u001b[39;00m \u001b[38;5;241m1\u001b[39m\n",
      "\u001b[1;31mAssertionError\u001b[0m: The number must be a positive integer only"
     ]
    }
   ],
   "source": [
    "factorial(-5)"
   ]
  },
  {
   "cell_type": "markdown",
   "id": "aee6e64f",
   "metadata": {},
   "source": [
    "Fibonacci Sequence\n"
   ]
  },
  {
   "cell_type": "code",
   "execution_count": 8,
   "id": "23af1541",
   "metadata": {},
   "outputs": [],
   "source": [
    "# Is a sequence of numbers in which each number is the sum of two preceding ones and the series starts from 0 and 1."
   ]
  },
  {
   "cell_type": "code",
   "execution_count": 10,
   "id": "83bda434",
   "metadata": {},
   "outputs": [],
   "source": [
    "#Step 1 : Recursive Case - The Flow:\n",
    "# f(n) = f(n-1) + f(n-2) : Mathematic function of fibonacci sequence.\n",
    "def fibonacci(n):\n",
    "    return fibonacci(n - 1) + fibonacci (n - 2)\n",
    "# Infinite Loop."
   ]
  },
  {
   "cell_type": "code",
   "execution_count": 13,
   "id": "1fb86185",
   "metadata": {},
   "outputs": [],
   "source": [
    "# Step 2 : Base Condition : Stopping Criteria\n",
    "def fibonacci(n):\n",
    "    if n in [0,1]:\n",
    "        return n\n",
    "    else:\n",
    "        return fibonacci( n - 1 ) + fibonacci( n - 2 )"
   ]
  },
  {
   "cell_type": "code",
   "execution_count": 19,
   "id": "5c05e0f2",
   "metadata": {},
   "outputs": [],
   "source": [
    "# Step 3 : Un-intentional case - Constraints\n",
    "#Use of Assert Keyword\n",
    "def fibonacci(n):\n",
    "    assert n>=0 and n == int(n), 'Fibonacci Number cannot be Negative or Non Integer'\n",
    "    if n in [0,1]:\n",
    "        return n\n",
    "    else: \n",
    "        return fibonacci (n-1) + fibonacci (n-2)"
   ]
  },
  {
   "cell_type": "code",
   "execution_count": 20,
   "id": "a5cebd2a",
   "metadata": {},
   "outputs": [
    {
     "data": {
      "text/plain": [
       "34"
      ]
     },
     "execution_count": 20,
     "metadata": {},
     "output_type": "execute_result"
    }
   ],
   "source": [
    "fibonacci(9)"
   ]
  },
  {
   "cell_type": "code",
   "execution_count": 22,
   "id": "7d40945f",
   "metadata": {},
   "outputs": [
    {
     "ename": "AssertionError",
     "evalue": "Fibonacci Number cannot be Negative or Non Integer",
     "output_type": "error",
     "traceback": [
      "\u001b[1;31m---------------------------------------------------------------------------\u001b[0m",
      "\u001b[1;31mAssertionError\u001b[0m                            Traceback (most recent call last)",
      "Input \u001b[1;32mIn [22]\u001b[0m, in \u001b[0;36m<cell line: 1>\u001b[1;34m()\u001b[0m\n\u001b[1;32m----> 1\u001b[0m \u001b[43mfibonacci\u001b[49m\u001b[43m(\u001b[49m\u001b[38;5;241;43m3.5\u001b[39;49m\u001b[43m)\u001b[49m\n",
      "Input \u001b[1;32mIn [19]\u001b[0m, in \u001b[0;36mfibonacci\u001b[1;34m(n)\u001b[0m\n\u001b[0;32m      3\u001b[0m \u001b[38;5;28;01mdef\u001b[39;00m \u001b[38;5;21mfibonacci\u001b[39m(n):\n\u001b[1;32m----> 4\u001b[0m     \u001b[38;5;28;01massert\u001b[39;00m n\u001b[38;5;241m>\u001b[39m\u001b[38;5;241m=\u001b[39m\u001b[38;5;241m0\u001b[39m \u001b[38;5;129;01mand\u001b[39;00m n \u001b[38;5;241m==\u001b[39m \u001b[38;5;28mint\u001b[39m(n), \u001b[38;5;124m'\u001b[39m\u001b[38;5;124mFibonacci Number cannot be Negative or Non Integer\u001b[39m\u001b[38;5;124m'\u001b[39m\n\u001b[0;32m      5\u001b[0m     \u001b[38;5;28;01mif\u001b[39;00m n \u001b[38;5;129;01min\u001b[39;00m [\u001b[38;5;241m0\u001b[39m,\u001b[38;5;241m1\u001b[39m]:\n\u001b[0;32m      6\u001b[0m         \u001b[38;5;28;01mreturn\u001b[39;00m n\n",
      "\u001b[1;31mAssertionError\u001b[0m: Fibonacci Number cannot be Negative or Non Integer"
     ]
    }
   ],
   "source": [
    "fibonacci(3.5)"
   ]
  },
  {
   "cell_type": "code",
   "execution_count": null,
   "id": "ac7224ff",
   "metadata": {},
   "outputs": [],
   "source": []
  }
 ],
 "metadata": {
  "kernelspec": {
   "display_name": "Python 3 (ipykernel)",
   "language": "python",
   "name": "python3"
  },
  "language_info": {
   "codemirror_mode": {
    "name": "ipython",
    "version": 3
   },
   "file_extension": ".py",
   "mimetype": "text/x-python",
   "name": "python",
   "nbconvert_exporter": "python",
   "pygments_lexer": "ipython3",
   "version": "3.9.12"
  }
 },
 "nbformat": 4,
 "nbformat_minor": 5
}
