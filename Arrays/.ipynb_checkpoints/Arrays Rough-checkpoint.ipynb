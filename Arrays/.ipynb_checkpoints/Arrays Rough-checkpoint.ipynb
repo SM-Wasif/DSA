{
 "cells": [
  {
   "cell_type": "code",
   "execution_count": 8,
   "id": "da002886",
   "metadata": {},
   "outputs": [],
   "source": [
    "import array as ar  #Arrays are present in 2 libraries. Array and Numpy Library. \n",
    "import numpy as np"
   ]
  },
  {
   "cell_type": "markdown",
   "id": "184af7b4",
   "metadata": {},
   "source": [
    "Array Library"
   ]
  },
  {
   "cell_type": "code",
   "execution_count": 3,
   "id": "db1e33f2",
   "metadata": {},
   "outputs": [],
   "source": [
    "my_array = ar.array('i')  #Time and Space Complexity of Empty Array is O(1)"
   ]
  },
  {
   "cell_type": "code",
   "execution_count": 4,
   "id": "c8c415a8",
   "metadata": {},
   "outputs": [
    {
     "name": "stdout",
     "output_type": "stream",
     "text": [
      "array('i')\n"
     ]
    }
   ],
   "source": [
    "print(my_array)"
   ]
  },
  {
   "cell_type": "code",
   "execution_count": 6,
   "id": "76be77db",
   "metadata": {},
   "outputs": [],
   "source": [
    "my_array1 = ar.array('i',[1,2,3,4]) #Time and Space Complexity of Array is O(N). Here it is O(4)"
   ]
  },
  {
   "cell_type": "code",
   "execution_count": 7,
   "id": "eb3c1326",
   "metadata": {},
   "outputs": [
    {
     "name": "stdout",
     "output_type": "stream",
     "text": [
      "array('i', [1, 2, 3, 4])\n"
     ]
    }
   ],
   "source": [
    "print(my_array1)"
   ]
  },
  {
   "cell_type": "markdown",
   "id": "a55c8daf",
   "metadata": {},
   "source": [
    "Numpy Library"
   ]
  },
  {
   "cell_type": "code",
   "execution_count": 10,
   "id": "4ca420bf",
   "metadata": {},
   "outputs": [],
   "source": [
    "np_array = np.array([1,2,3,4]) #Time and Space Complexity of Array is O(N).  { O(4) }"
   ]
  },
  {
   "cell_type": "code",
   "execution_count": 11,
   "id": "36fc06f9",
   "metadata": {},
   "outputs": [
    {
     "name": "stdout",
     "output_type": "stream",
     "text": [
      "[1 2 3 4]\n"
     ]
    }
   ],
   "source": [
    "print(np_array)"
   ]
  },
  {
   "cell_type": "code",
   "execution_count": null,
   "id": "5b23062e",
   "metadata": {},
   "outputs": [],
   "source": []
  }
 ],
 "metadata": {
  "kernelspec": {
   "display_name": "Python 3 (ipykernel)",
   "language": "python",
   "name": "python3"
  },
  "language_info": {
   "codemirror_mode": {
    "name": "ipython",
    "version": 3
   },
   "file_extension": ".py",
   "mimetype": "text/x-python",
   "name": "python",
   "nbconvert_exporter": "python",
   "pygments_lexer": "ipython3",
   "version": "3.9.12"
  }
 },
 "nbformat": 4,
 "nbformat_minor": 5
}
