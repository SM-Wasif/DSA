{
 "cells": [
  {
   "cell_type": "code",
   "execution_count": 8,
   "id": "af7bc15c",
   "metadata": {},
   "outputs": [],
   "source": [
    "import array as ar  #Arrays are present in 2 libraries. Array and Numpy Library. \n",
    "import numpy as np"
   ]
  },
  {
   "cell_type": "markdown",
   "id": "90fd9b42",
   "metadata": {},
   "source": [
    "Array Library"
   ]
  },
  {
   "cell_type": "code",
   "execution_count": 3,
   "id": "30582eca",
   "metadata": {},
   "outputs": [],
   "source": [
    "my_array = ar.array('i')  #Time and Space Complexity of Empty Array is O(1)"
   ]
  },
  {
   "cell_type": "code",
   "execution_count": 4,
   "id": "7a94488e",
   "metadata": {},
   "outputs": [
    {
     "name": "stdout",
     "output_type": "stream",
     "text": [
      "array('i')\n"
     ]
    }
   ],
   "source": [
    "print(my_array)"
   ]
  },
  {
   "cell_type": "code",
   "execution_count": 6,
   "id": "963fdf7f",
   "metadata": {},
   "outputs": [],
   "source": [
    "my_array1 = ar.array('i',[1,2,3,4]) #Time and Space Complexity of Array is O(N). Here it is O(4)"
   ]
  },
  {
   "cell_type": "code",
   "execution_count": 7,
   "id": "441d04cf",
   "metadata": {},
   "outputs": [
    {
     "name": "stdout",
     "output_type": "stream",
     "text": [
      "array('i', [1, 2, 3, 4])\n"
     ]
    }
   ],
   "source": [
    "print(my_array1)"
   ]
  },
  {
   "cell_type": "markdown",
   "id": "5c207092",
   "metadata": {},
   "source": [
    "Numpy Library"
   ]
  },
  {
   "cell_type": "code",
   "execution_count": 10,
   "id": "2e70ba02",
   "metadata": {},
   "outputs": [],
   "source": [
    "np_array = np.array([1,2,3,4]) #Time and Space Complexity of Array is O(N).  { O(4) }"
   ]
  },
  {
   "cell_type": "code",
   "execution_count": 11,
   "id": "05dc41b0",
   "metadata": {},
   "outputs": [
    {
     "name": "stdout",
     "output_type": "stream",
     "text": [
      "[1 2 3 4]\n"
     ]
    }
   ],
   "source": [
    "print(np_array)"
   ]
  },
  {
   "cell_type": "markdown",
   "id": "168c5f51",
   "metadata": {},
   "source": [
    "# Insertion of Array"
   ]
  },
  {
   "cell_type": "code",
   "execution_count": 12,
   "id": "ffc2d4c9",
   "metadata": {},
   "outputs": [],
   "source": [
    "my_array1 = ar.array('i',[1,2,3,4])"
   ]
  },
  {
   "cell_type": "code",
   "execution_count": 13,
   "id": "ba3a3816",
   "metadata": {},
   "outputs": [
    {
     "name": "stdout",
     "output_type": "stream",
     "text": [
      "array('i', [1, 2, 3, 4])\n"
     ]
    }
   ],
   "source": [
    "print(my_array1)"
   ]
  },
  {
   "cell_type": "code",
   "execution_count": 14,
   "id": "19a9bd03",
   "metadata": {},
   "outputs": [],
   "source": [
    "my_array1.insert(0,5)  #my_array1.insert(Index, Value)  #Time Complexity of Insertion is O(N)."
   ]
  },
  {
   "cell_type": "code",
   "execution_count": 15,
   "id": "b581cd21",
   "metadata": {},
   "outputs": [
    {
     "name": "stdout",
     "output_type": "stream",
     "text": [
      "array('i', [5, 1, 2, 3, 4])\n"
     ]
    }
   ],
   "source": [
    "print(my_array1)  #Inserting value at index 0."
   ]
  },
  {
   "cell_type": "code",
   "execution_count": 16,
   "id": "319552a2",
   "metadata": {},
   "outputs": [],
   "source": [
    "my_array1.insert(3,7) #Inserting value at index 3.      #Space Complexity of Insertion is O(1)"
   ]
  },
  {
   "cell_type": "code",
   "execution_count": 17,
   "id": "e1a32225",
   "metadata": {},
   "outputs": [
    {
     "name": "stdout",
     "output_type": "stream",
     "text": [
      "array('i', [5, 1, 2, 7, 3, 4])\n"
     ]
    }
   ],
   "source": [
    "print(my_array1)"
   ]
  },
  {
   "cell_type": "code",
   "execution_count": 18,
   "id": "5cf07593",
   "metadata": {},
   "outputs": [],
   "source": [
    "my_array1.insert(10,6)#Inserting value at last index. "
   ]
  },
  {
   "cell_type": "code",
   "execution_count": 19,
   "id": "f01f7569",
   "metadata": {},
   "outputs": [
    {
     "name": "stdout",
     "output_type": "stream",
     "text": [
      "array('i', [5, 1, 2, 7, 3, 4, 6])\n"
     ]
    }
   ],
   "source": [
    "print(my_array1)"
   ]
  },
  {
   "cell_type": "markdown",
   "id": "4eea0fec",
   "metadata": {},
   "source": [
    "# Tansverse Array"
   ]
  },
  {
   "cell_type": "code",
   "execution_count": 20,
   "id": "6c9b833e",
   "metadata": {},
   "outputs": [],
   "source": [
    "arr1 = ar.array('i', [1,2,3,4])\n",
    "arr2 = ar.array('d', [1.2, 1.3, 1.0, 1.1])"
   ]
  },
  {
   "cell_type": "code",
   "execution_count": 24,
   "id": "01053e0f",
   "metadata": {},
   "outputs": [],
   "source": [
    "def transverseArray(array):\n",
    "    for i in array:  #----------- O(N)\n",
    "        print(i)     # -----------O(1)\n",
    "        \n",
    "        #Overall: Time Complexity: O(N) and Space Complexity O(1)"
   ]
  },
  {
   "cell_type": "code",
   "execution_count": 22,
   "id": "1279d024",
   "metadata": {},
   "outputs": [
    {
     "name": "stdout",
     "output_type": "stream",
     "text": [
      "1\n",
      "2\n",
      "3\n",
      "4\n"
     ]
    }
   ],
   "source": [
    "transverseArray(arr1)"
   ]
  },
  {
   "cell_type": "code",
   "execution_count": 23,
   "id": "9fbd9746",
   "metadata": {},
   "outputs": [
    {
     "name": "stdout",
     "output_type": "stream",
     "text": [
      "1.2\n",
      "1.3\n",
      "1.0\n",
      "1.1\n"
     ]
    }
   ],
   "source": [
    "transverseArray(arr2)\n"
   ]
  },
  {
   "cell_type": "markdown",
   "id": "9cf0ec23",
   "metadata": {},
   "source": [
    "# Accessing Element in Array."
   ]
  },
  {
   "cell_type": "code",
   "execution_count": 30,
   "id": "4d30e371",
   "metadata": {},
   "outputs": [],
   "source": [
    "def accessElement(array,index):\n",
    "    if index >= len(array):        # Space and Time Complexity = O(1)\n",
    "        print(\"There is no element at this index\")\n",
    "    else:                                 \n",
    "        print(array[index])        # Space and Time Complexity = O(1)"
   ]
  },
  {
   "cell_type": "code",
   "execution_count": 26,
   "id": "2de1a811",
   "metadata": {},
   "outputs": [
    {
     "name": "stdout",
     "output_type": "stream",
     "text": [
      "3\n"
     ]
    }
   ],
   "source": [
    "accessElement(arr1,2)"
   ]
  },
  {
   "cell_type": "code",
   "execution_count": 31,
   "id": "1b7e6646",
   "metadata": {},
   "outputs": [
    {
     "name": "stdout",
     "output_type": "stream",
     "text": [
      "There is no element at this index\n"
     ]
    }
   ],
   "source": [
    "accessElement(arr2,4)"
   ]
  },
  {
   "cell_type": "code",
   "execution_count": 28,
   "id": "502e0b60",
   "metadata": {},
   "outputs": [
    {
     "name": "stdout",
     "output_type": "stream",
     "text": [
      "There is no element at this index\n"
     ]
    }
   ],
   "source": [
    "accessElement(arr1,5)"
   ]
  },
  {
   "cell_type": "markdown",
   "id": "b698c7fd",
   "metadata": {},
   "source": [
    "# Searching for an Element in an Array."
   ]
  },
  {
   "cell_type": "markdown",
   "id": "75c93570",
   "metadata": {},
   "source": [
    "Linear Search"
   ]
  },
  {
   "cell_type": "code",
   "execution_count": 34,
   "id": "e8d6587b",
   "metadata": {},
   "outputs": [],
   "source": [
    "def linear_search(arr,target):\n",
    "    for i in range(len(arr)):\n",
    "        if arr[i] == target:    #OVERALL SPACE AND TIME COMPLEXITY = O(1)\n",
    "            return i\n",
    "    return -1\n",
    "        "
   ]
  },
  {
   "cell_type": "code",
   "execution_count": 35,
   "id": "ec592103",
   "metadata": {},
   "outputs": [
    {
     "data": {
      "text/plain": [
       "2"
      ]
     },
     "execution_count": 35,
     "metadata": {},
     "output_type": "execute_result"
    }
   ],
   "source": [
    "linear_search(arr1,3)"
   ]
  },
  {
   "cell_type": "code",
   "execution_count": 36,
   "id": "02d24e44",
   "metadata": {},
   "outputs": [
    {
     "name": "stdout",
     "output_type": "stream",
     "text": [
      "array('i', [1, 2, 3, 4])\n"
     ]
    }
   ],
   "source": [
    "print(arr1)"
   ]
  },
  {
   "cell_type": "code",
   "execution_count": null,
   "id": "a6b727ff",
   "metadata": {},
   "outputs": [],
   "source": []
  }
 ],
 "metadata": {
  "kernelspec": {
   "display_name": "Python 3 (ipykernel)",
   "language": "python",
   "name": "python3"
  },
  "language_info": {
   "codemirror_mode": {
    "name": "ipython",
    "version": 3
   },
   "file_extension": ".py",
   "mimetype": "text/x-python",
   "name": "python",
   "nbconvert_exporter": "python",
   "pygments_lexer": "ipython3",
   "version": "3.9.12"
  }
 },
 "nbformat": 4,
 "nbformat_minor": 5
}
